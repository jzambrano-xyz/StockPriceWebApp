{
  "nbformat": 4,
  "nbformat_minor": 0,
  "metadata": {
    "colab": {
      "provenance": [],
      "authorship_tag": "ABX9TyOc8dTHuLOVOegEsMcQ2Zb3",
      "include_colab_link": true
    },
    "kernelspec": {
      "name": "python3",
      "display_name": "Python 3"
    },
    "language_info": {
      "name": "python"
    }
  },
  "cells": [
    {
      "cell_type": "markdown",
      "metadata": {
        "id": "view-in-github",
        "colab_type": "text"
      },
      "source": [
        "<a href=\"https://colab.research.google.com/github/jzambrano-xyz/StockPriceWebApp/blob/master/Stock_Price_Streamlit.ipynb\" target=\"_parent\"><img src=\"https://colab.research.google.com/assets/colab-badge.svg\" alt=\"Open In Colab\"/></a>"
      ]
    },
    {
      "cell_type": "code",
      "source": [
        "!pip install -q streamlit"
      ],
      "metadata": {
        "id": "fdIaqY8SM0OJ"
      },
      "execution_count": null,
      "outputs": []
    },
    {
      "cell_type": "code",
      "execution_count": null,
      "metadata": {
        "id": "Z-NqAGEmMvF1"
      },
      "outputs": [],
      "source": [
        "%%writefile app.py\n",
        "\n",
        "#Define libraries to import and use in the project\n",
        "import yfinance as yf\n",
        "import streamlit as st\n",
        "import pandas as pd\n",
        "\n",
        "#The function st.write allows us to use Markdown in the Web app\n",
        "st.write(\"\"\"\n",
        "# Simple stock price app\n",
        "\n",
        "Shown are the stock **closing price** and **volume** for Google (GOOGL)!\n",
        "\n",
        "\"\"\")\n",
        "\n",
        "#Define the ticker symbol to display\n",
        "tickerSymbol = 'GOOGL'\n",
        "#Get the data from this ticker\n",
        "tickerData = yf.Ticker(tickerSymbol)\n",
        "#Set the range of historical prices to get for this ticker\n",
        "tickerHp = tickerData.history(period='1d', start='2010-5-31', end='2020-8-21')\n",
        "#Available data to display:\n",
        "#Open   High    Low    Close   Volume  Dividends   Stock    Splits\n",
        "\n",
        "st.line_chart(tickerHp.Close)\n",
        "st.line_chart(tickerHp.Volume)"
      ]
    },
    {
      "cell_type": "code",
      "source": [
        "!npm install localtunnel"
      ],
      "metadata": {
        "id": "8_4C4F16NwN3"
      },
      "execution_count": null,
      "outputs": []
    },
    {
      "cell_type": "markdown",
      "source": [
        "## Run streamlit in background"
      ],
      "metadata": {
        "id": "kccYE2lkN20y"
      }
    },
    {
      "cell_type": "code",
      "source": [
        "!streamlit run /content/app.py &>/content/logs.txt &"
      ],
      "metadata": {
        "id": "Zv912rRAN0fs"
      },
      "execution_count": null,
      "outputs": []
    },
    {
      "cell_type": "markdown",
      "source": [
        "##Get the public IP of the Colab notebook, as it is your key to open the app via the tunnel:"
      ],
      "metadata": {
        "id": "PdSN6i9mPmqY"
      }
    },
    {
      "cell_type": "code",
      "source": [
        "!curl ipv4.icanhazip.com"
      ],
      "metadata": {
        "id": "8n4l4tsmOp75"
      },
      "execution_count": null,
      "outputs": []
    },
    {
      "cell_type": "markdown",
      "source": [
        "## Expose the port 8501\n",
        "Paste the Public IP of your Colab and then just click in the `url` showed.\n",
        "\n",
        "A `log.txt`file will be created."
      ],
      "metadata": {
        "id": "h_KW9juhOCuH"
      }
    },
    {
      "cell_type": "code",
      "source": [
        "!npx localtunnel --port 8501"
      ],
      "metadata": {
        "id": "XTGAizLhOIgC"
      },
      "execution_count": null,
      "outputs": []
    }
  ]
}